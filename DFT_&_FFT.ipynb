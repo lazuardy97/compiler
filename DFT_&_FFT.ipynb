{
  "nbformat": 4,
  "nbformat_minor": 0,
  "metadata": {
    "colab": {
      "name": "DFT & FFT.ipynb",
      "provenance": [],
      "authorship_tag": "ABX9TyMv50QCCK2pOYzqBHTzs8l6",
      "include_colab_link": true
    },
    "kernelspec": {
      "name": "python3",
      "display_name": "Python 3"
    },
    "language_info": {
      "name": "python"
    }
  },
  "cells": [
    {
      "cell_type": "markdown",
      "metadata": {
        "id": "view-in-github",
        "colab_type": "text"
      },
      "source": [
        "<a href=\"https://colab.research.google.com/github/lazuardy97/compiler/blob/master/DFT_%26_FFT.ipynb\" target=\"_parent\"><img src=\"https://colab.research.google.com/assets/colab-badge.svg\" alt=\"Open In Colab\"/></a>"
      ]
    },
    {
      "cell_type": "code",
      "execution_count": 20,
      "metadata": {
        "id": "ysaIm1jLptkZ"
      },
      "outputs": [],
      "source": [
        "import matplotlib.pyplot as plt\n",
        "import numpy as np"
      ]
    },
    {
      "cell_type": "code",
      "source": [
        "#DFT\n",
        "def dft(x):\n",
        "    x = np.asarray(x, dtype=float)\n",
        "    N = x.shape[0]\n",
        "    n = np.arange(N)\n",
        "    k = n.reshape((N, 1))\n",
        "    M = np.exp(-2j * np.pi * k * n / N)\n",
        "    return np.dot(M, x)"
      ],
      "metadata": {
        "id": "y3SS6wBSp_Sy"
      },
      "execution_count": 21,
      "outputs": []
    },
    {
      "cell_type": "code",
      "source": [
        "def fft(x):\n",
        "    x = np.asarray(x, dtype=float)\n",
        "    N = x.shape[0]\n",
        "    if N % 2 > 0:\n",
        "        raise ValueError(\"must be a power of 2\")\n",
        "    elif N <= 2:\n",
        "        return dft(x)\n",
        "    else:\n",
        "        X_even = fft(x[::2])\n",
        "        X_odd = fft(x[1::2])\n",
        "        terms = np.exp(-2j * np.pi * np.arange(N) / N)\n",
        "        return np.concatenate([X_even + terms[:int(N/2)] * X_odd,\n",
        "                               X_even + terms[int(N/2):] * X_odd])"
      ],
      "metadata": {
        "id": "WN2XRAImqKsx"
      },
      "execution_count": 22,
      "outputs": []
    },
    {
      "cell_type": "code",
      "source": [
        "x = np.random.random(1024)\n",
        "np.allclose(dft(x), np.fft.fft(x))"
      ],
      "metadata": {
        "colab": {
          "base_uri": "https://localhost:8080/"
        },
        "id": "sNHduHf5qRDl",
        "outputId": "4daa7925-4acd-4fd2-8f9e-e0e6e2bb3525"
      },
      "execution_count": 23,
      "outputs": [
        {
          "output_type": "execute_result",
          "data": {
            "text/plain": [
              "True"
            ]
          },
          "metadata": {},
          "execution_count": 23
        }
      ]
    },
    {
      "cell_type": "code",
      "source": [
        "y = np.random.random(1024)\n",
        "np.allclose(fft(y), np.fft.fft(y))"
      ],
      "metadata": {
        "colab": {
          "base_uri": "https://localhost:8080/"
        },
        "id": "DKnKpTg2qVFc",
        "outputId": "1616ca54-951e-42fa-bac5-173daf8d8335"
      },
      "execution_count": 24,
      "outputs": [
        {
          "output_type": "execute_result",
          "data": {
            "text/plain": [
              "True"
            ]
          },
          "metadata": {},
          "execution_count": 24
        }
      ]
    },
    {
      "cell_type": "code",
      "source": [
        "%timeit dft(x)\n",
        "%timeit np.fft.fft(x)"
      ],
      "metadata": {
        "colab": {
          "base_uri": "https://localhost:8080/"
        },
        "id": "YVdKLehfqXW0",
        "outputId": "c3f6107f-2e19-44ec-fa01-d399b8603186"
      },
      "execution_count": 25,
      "outputs": [
        {
          "output_type": "stream",
          "name": "stdout",
          "text": [
            "10 loops, best of 5: 126 ms per loop\n",
            "The slowest run took 47.49 times longer than the fastest. This could mean that an intermediate result is being cached.\n",
            "100000 loops, best of 5: 15.8 µs per loop\n"
          ]
        }
      ]
    },
    {
      "cell_type": "code",
      "source": [
        "import time\n",
        "\n",
        "i = 0\n",
        "input_dft = [1, 2, 3, 4, 5]\n",
        "list_time_dft = [0.0, 0.0, 0.0, 0.0, 0.0]\n",
        "\n",
        "for n in range(10, 15):\n",
        "  print(pow(2, n))\n",
        "  input_dft[i] = pow(2, n)\n",
        "  x = np.random.random(pow(2, n))\n",
        "\n",
        "  # start test\n",
        "  start_test = time.time()\n",
        "\n",
        "  dft(x)\n",
        "\n",
        "  # end test\n",
        "  end_test = time.time()\n",
        "\n",
        "  list_time_dft[i] = end_test - start_test\n",
        "  print(list_time_dft[i])\n",
        "  i+=1\n",
        "\n",
        "\n",
        "#GRAFIK DFT\n",
        "xpoints = input_dft\n",
        "ypoints = list_time_dft\n",
        "\n",
        "plt.plot(xpoints, ypoints)\n",
        "plt.show()"
      ],
      "metadata": {
        "colab": {
          "base_uri": "https://localhost:8080/",
          "height": 439
        },
        "id": "Rs3VaazjqcRq",
        "outputId": "ae9dcf88-7478-487e-b227-0919783d5e37"
      },
      "execution_count": 31,
      "outputs": [
        {
          "output_type": "stream",
          "name": "stdout",
          "text": [
            "1024\n",
            "0.3038766384124756\n",
            "2048\n",
            "0.5861523151397705\n",
            "4096\n",
            "1.6793227195739746\n",
            "8192\n",
            "6.187303066253662\n",
            "16384\n",
            "19.723909616470337\n"
          ]
        },
        {
          "output_type": "display_data",
          "data": {
            "text/plain": [
              "<Figure size 432x288 with 1 Axes>"
            ],
            "image/png": "[encoded data removed]"
          },
          "metadata": {
            "needs_background": "light"
          }
        }
      ]
    },
    {
      "cell_type": "code",
      "source": [
        "import time\n",
        "\n",
        "i = 0\n",
        "input_fft = [0, 0, 0, 0, 0]\n",
        "list_time_fft = [0.0, 0.0, 0.0, 0.0, 0.0]\n",
        "\n",
        "for n in range(10, 15):\n",
        "  print(pow(2, n))\n",
        "  input_fft[i] = pow(2, n)\n",
        "  x = np.random.random(pow(2, n))\n",
        "\n",
        "  # start test\n",
        "  start_test = time.time()\n",
        "\n",
        "  fft(x)\n",
        "\n",
        "  # end test\n",
        "  end_test = time.time()\n",
        "\n",
        "  list_time_fft[i] = end_test - start_test\n",
        "  print(list_time_fft[i])\n",
        "  i+=1\n",
        "\n",
        "\n",
        "#GRAFIK FFT\n",
        "xpoints = input_fft\n",
        "ypoints = list_time_fft\n",
        "\n",
        "plt.plot(xpoints, ypoints)\n",
        "plt.show()"
      ],
      "metadata": {
        "colab": {
          "base_uri": "https://localhost:8080/",
          "height": 473
        },
        "id": "8StE8FuRqnvp",
        "outputId": "b1b696f6-88fb-49dd-8916-8d09e42479b0"
      },
      "execution_count": 27,
      "outputs": [
        {
          "output_type": "stream",
          "name": "stdout",
          "text": [
            "1024\n",
            "0.013516664505004883\n",
            "2048\n",
            "0.027007579803466797\n",
            "4096\n",
            "0.054904937744140625\n",
            "8192\n",
            "0.1133263111114502\n",
            "16384\n"
          ]
        },
        {
          "output_type": "stream",
          "name": "stderr",
          "text": [
            "No handles with labels found to put in legend.\n"
          ]
        },
        {
          "output_type": "stream",
          "name": "stdout",
          "text": [
            "0.24943041801452637\n"
          ]
        },
        {
          "output_type": "execute_result",
          "data": {
            "text/plain": [
              "<matplotlib.legend.Legend at 0x7fe1ddbd6c90>"
            ]
          },
          "metadata": {},
          "execution_count": 27
        },
        {
          "output_type": "display_data",
          "data": {
            "text/plain": [
              "<Figure size 432x288 with 1 Axes>"
            ],
            "image/png": "[encoded data removed]"
          },
          "metadata": {
            "needs_background": "light"
          }
        }
      ]
    },
    {
      "cell_type": "code",
      "source": [
        "xpoints = input_dft\n",
        "\n",
        "plt.plot(xpoints, list_time_dft, 'b', label='DFT')\n",
        "plt.plot(xpoints, list_time_fft, 'r', label='FFT')\n",
        "plt.legend()"
      ],
      "metadata": {
        "colab": {
          "base_uri": "https://localhost:8080/",
          "height": 286
        },
        "id": "2E9ApqApqtP6",
        "outputId": "a4f6c7ad-3567-4ee2-d229-7628c2ab85a0"
      },
      "execution_count": 28,
      "outputs": [
        {
          "output_type": "execute_result",
          "data": {
            "text/plain": [
              "<matplotlib.legend.Legend at 0x7fe1ddb12bd0>"
            ]
          },
          "metadata": {},
          "execution_count": 28
        },
        {
          "output_type": "display_data",
          "data": {
            "text/plain": [
              "<Figure size 432x288 with 1 Axes>"
            ],
            "image/png": "[encoded data removed]"
          },
          "metadata": {
            "needs_background": "light"
          }
        }
      ]
    }
  ]
}